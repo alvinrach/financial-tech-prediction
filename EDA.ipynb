{
 "cells": [
  {
   "cell_type": "code",
   "execution_count": 1,
   "id": "ce40bd7c-fa3f-4770-b510-4723d4b249d1",
   "metadata": {},
   "outputs": [],
   "source": [
    "import pandas as pd\n",
    "import seaborn as sns\n",
    "import matplotlib.pyplot as plt\n",
    "pd.set_option('future.no_silent_downcasting', True)"
   ]
  },
  {
   "cell_type": "code",
   "execution_count": 2,
   "id": "a94c6860-8d69-4991-bbf1-e0a832fe4846",
   "metadata": {},
   "outputs": [
    {
     "name": "stderr",
     "output_type": "stream",
     "text": [
      "/tmp/ipykernel_10221/466465776.py:1: DtypeWarning: Columns (21) have mixed types. Specify dtype option on import or set low_memory=False.\n",
      "  df = pd.read_csv('demographic.csv')\n"
     ]
    },
    {
     "data": {
      "text/html": [
       "<div>\n",
       "<style scoped>\n",
       "    .dataframe tbody tr th:only-of-type {\n",
       "        vertical-align: middle;\n",
       "    }\n",
       "\n",
       "    .dataframe tbody tr th {\n",
       "        vertical-align: top;\n",
       "    }\n",
       "\n",
       "    .dataframe thead th {\n",
       "        text-align: right;\n",
       "    }\n",
       "</style>\n",
       "<table border=\"1\" class=\"dataframe\">\n",
       "  <thead>\n",
       "    <tr style=\"text-align: right;\">\n",
       "      <th></th>\n",
       "      <th>flag_bad</th>\n",
       "      <th>de_age</th>\n",
       "      <th>de_gender</th>\n",
       "      <th>de_date_joined</th>\n",
       "      <th>de_num_friends</th>\n",
       "      <th>de_monthly_salary</th>\n",
       "      <th>de_employment_type</th>\n",
       "      <th>de_employment_duration</th>\n",
       "      <th>de_accomodation_type</th>\n",
       "      <th>de_education</th>\n",
       "      <th>...</th>\n",
       "      <th>de_children</th>\n",
       "      <th>ph_total_contacts</th>\n",
       "      <th>ph_other_device_info</th>\n",
       "      <th>ph_call_log_stats</th>\n",
       "      <th>ph_country_code</th>\n",
       "      <th>ph_app_list</th>\n",
       "      <th>fb_gender</th>\n",
       "      <th>fb_dob</th>\n",
       "      <th>fb_last_updated_date</th>\n",
       "      <th>fb_relation</th>\n",
       "    </tr>\n",
       "  </thead>\n",
       "  <tbody>\n",
       "    <tr>\n",
       "      <th>0</th>\n",
       "      <td>0</td>\n",
       "      <td>26</td>\n",
       "      <td>1</td>\n",
       "      <td>08/04/2018 14:50</td>\n",
       "      <td>2535</td>\n",
       "      <td>3000000</td>\n",
       "      <td>1</td>\n",
       "      <td>51</td>\n",
       "      <td>4</td>\n",
       "      <td>2</td>\n",
       "      <td>...</td>\n",
       "      <td>0</td>\n",
       "      <td>66</td>\n",
       "      <td>{\"device_codename\": \"HM2014817\", \"brand\": \"Xia...</td>\n",
       "      <td>{\"percent_incoming_nighttime\": 1.83, \"percent_...</td>\n",
       "      <td>id</td>\n",
       "      <td>['com.google.android.music', 'com.facebook.orc...</td>\n",
       "      <td>male</td>\n",
       "      <td>11/23/1991</td>\n",
       "      <td>2017-12-21T04:38:00+0000</td>\n",
       "      <td>Married</td>\n",
       "    </tr>\n",
       "    <tr>\n",
       "      <th>1</th>\n",
       "      <td>0</td>\n",
       "      <td>22</td>\n",
       "      <td>1</td>\n",
       "      <td>02/01/2018 17:17</td>\n",
       "      <td>685</td>\n",
       "      <td>4000000</td>\n",
       "      <td>1</td>\n",
       "      <td>28</td>\n",
       "      <td>4</td>\n",
       "      <td>4</td>\n",
       "      <td>...</td>\n",
       "      <td>0</td>\n",
       "      <td>69</td>\n",
       "      <td>{\"device_codename\": \"A1601\", \"brand\": \"OPPO\"}</td>\n",
       "      <td>{\"percent_incoming_nighttime\": 0.0, \"percent_o...</td>\n",
       "      <td>id</td>\n",
       "      <td>['com.google.android.instantapps.supervisor', ...</td>\n",
       "      <td>male</td>\n",
       "      <td>01/20/1995</td>\n",
       "      <td>2017-11-25T17:23:09+0000</td>\n",
       "      <td>NaN</td>\n",
       "    </tr>\n",
       "    <tr>\n",
       "      <th>2</th>\n",
       "      <td>1</td>\n",
       "      <td>32</td>\n",
       "      <td>1</td>\n",
       "      <td>01/01/2018 16:39</td>\n",
       "      <td>1765</td>\n",
       "      <td>7000000</td>\n",
       "      <td>1</td>\n",
       "      <td>35</td>\n",
       "      <td>4</td>\n",
       "      <td>4</td>\n",
       "      <td>...</td>\n",
       "      <td>2</td>\n",
       "      <td>315</td>\n",
       "      <td>{\"device_codename\": \"A1601\", \"brand\": \"OPPO\"}</td>\n",
       "      <td>{\"percent_incoming_nighttime\": 6.65, \"percent_...</td>\n",
       "      <td>id</td>\n",
       "      <td>['com.tencent.ibg.joox', 'com.mrgames.larvaact...</td>\n",
       "      <td>male</td>\n",
       "      <td>10/13/1985</td>\n",
       "      <td>2017-12-23T18:05:57+0000</td>\n",
       "      <td>Married</td>\n",
       "    </tr>\n",
       "    <tr>\n",
       "      <th>3</th>\n",
       "      <td>0</td>\n",
       "      <td>31</td>\n",
       "      <td>2</td>\n",
       "      <td>04/01/2018 22:36</td>\n",
       "      <td>407</td>\n",
       "      <td>20000000</td>\n",
       "      <td>3</td>\n",
       "      <td>37</td>\n",
       "      <td>4</td>\n",
       "      <td>3</td>\n",
       "      <td>...</td>\n",
       "      <td>2</td>\n",
       "      <td>84</td>\n",
       "      <td>{\"device_codename\": \"A1601\", \"brand\": \"OPPO\"}</td>\n",
       "      <td>{\"percent_incoming_nighttime\": 0.0, \"percent_o...</td>\n",
       "      <td>id</td>\n",
       "      <td>['com.kfit.fave', 'app.bpjs.mobile', 'com.redd...</td>\n",
       "      <td>female</td>\n",
       "      <td>07/27/1986</td>\n",
       "      <td>2017-12-05T09:37:19+0000</td>\n",
       "      <td>Married</td>\n",
       "    </tr>\n",
       "    <tr>\n",
       "      <th>4</th>\n",
       "      <td>0</td>\n",
       "      <td>27</td>\n",
       "      <td>1</td>\n",
       "      <td>02/01/2018 18:12</td>\n",
       "      <td>3064</td>\n",
       "      <td>3000000</td>\n",
       "      <td>1</td>\n",
       "      <td>36</td>\n",
       "      <td>4</td>\n",
       "      <td>3</td>\n",
       "      <td>...</td>\n",
       "      <td>0</td>\n",
       "      <td>0</td>\n",
       "      <td>{\"device_codename\": \"1609\", \"brand\": \"vivo\"}</td>\n",
       "      <td>{\"percent_incoming_nighttime\": 0.0, \"percent_o...</td>\n",
       "      <td>id</td>\n",
       "      <td>['com.lenovo.anyshare.gps', 'com.UCMobile.intl...</td>\n",
       "      <td>male</td>\n",
       "      <td>07/05/1990</td>\n",
       "      <td>2017-12-03T09:09:48+0000</td>\n",
       "      <td>In a relationship</td>\n",
       "    </tr>\n",
       "    <tr>\n",
       "      <th>...</th>\n",
       "      <td>...</td>\n",
       "      <td>...</td>\n",
       "      <td>...</td>\n",
       "      <td>...</td>\n",
       "      <td>...</td>\n",
       "      <td>...</td>\n",
       "      <td>...</td>\n",
       "      <td>...</td>\n",
       "      <td>...</td>\n",
       "      <td>...</td>\n",
       "      <td>...</td>\n",
       "      <td>...</td>\n",
       "      <td>...</td>\n",
       "      <td>...</td>\n",
       "      <td>...</td>\n",
       "      <td>...</td>\n",
       "      <td>...</td>\n",
       "      <td>...</td>\n",
       "      <td>...</td>\n",
       "      <td>...</td>\n",
       "      <td>...</td>\n",
       "    </tr>\n",
       "    <tr>\n",
       "      <th>41017</th>\n",
       "      <td>0</td>\n",
       "      <td>27</td>\n",
       "      <td>2</td>\n",
       "      <td>11/07/2018 22:23</td>\n",
       "      <td>997</td>\n",
       "      <td>5000000</td>\n",
       "      <td>2</td>\n",
       "      <td>51</td>\n",
       "      <td>4</td>\n",
       "      <td>2</td>\n",
       "      <td>...</td>\n",
       "      <td>2</td>\n",
       "      <td>1026</td>\n",
       "      <td>{\"device_codename\": \"A1601\", \"brand\": \"OPPO\"}</td>\n",
       "      <td>{\"percent_incoming_nighttime\": 5.66, \"percent_...</td>\n",
       "      <td>id</td>\n",
       "      <td>['com.instagram.android', 'com.google.android....</td>\n",
       "      <td>NaN</td>\n",
       "      <td>NaN</td>\n",
       "      <td>NaN</td>\n",
       "      <td>NaN</td>\n",
       "    </tr>\n",
       "    <tr>\n",
       "      <th>41018</th>\n",
       "      <td>0</td>\n",
       "      <td>26</td>\n",
       "      <td>1</td>\n",
       "      <td>11/07/2018 20:28</td>\n",
       "      <td>955</td>\n",
       "      <td>3000000</td>\n",
       "      <td>2</td>\n",
       "      <td>24</td>\n",
       "      <td>4</td>\n",
       "      <td>2</td>\n",
       "      <td>...</td>\n",
       "      <td>0</td>\n",
       "      <td>0</td>\n",
       "      <td>{\"device_codename\": \"nikel\", \"brand\": \"Xiaomi\"}</td>\n",
       "      <td>{\"percent_incoming_nighttime\": 10.71, \"percent...</td>\n",
       "      <td>id</td>\n",
       "      <td>['com.youmusic.magictiles', 'com.ayopop', 'com...</td>\n",
       "      <td>NaN</td>\n",
       "      <td>NaN</td>\n",
       "      <td>NaN</td>\n",
       "      <td>NaN</td>\n",
       "    </tr>\n",
       "    <tr>\n",
       "      <th>41019</th>\n",
       "      <td>0</td>\n",
       "      <td>22</td>\n",
       "      <td>2</td>\n",
       "      <td>11/07/2018 23:33</td>\n",
       "      <td>881</td>\n",
       "      <td>3000000</td>\n",
       "      <td>1</td>\n",
       "      <td>9</td>\n",
       "      <td>4</td>\n",
       "      <td>4</td>\n",
       "      <td>...</td>\n",
       "      <td>0</td>\n",
       "      <td>272</td>\n",
       "      <td>{\"device_codename\": \"a33g\", \"brand\": \"samsung\"}</td>\n",
       "      <td>{\"percent_incoming_nighttime\": 0.0, \"percent_o...</td>\n",
       "      <td>id</td>\n",
       "      <td>['com.grabtaxi.passenger', 'jp.co.translimit.b...</td>\n",
       "      <td>female</td>\n",
       "      <td>10/02/1995</td>\n",
       "      <td>2017-10-25T08:05:13+0000</td>\n",
       "      <td>NaN</td>\n",
       "    </tr>\n",
       "    <tr>\n",
       "      <th>41020</th>\n",
       "      <td>0</td>\n",
       "      <td>29</td>\n",
       "      <td>2</td>\n",
       "      <td>11/07/2018 22:03</td>\n",
       "      <td>540</td>\n",
       "      <td>6000000</td>\n",
       "      <td>1</td>\n",
       "      <td>51</td>\n",
       "      <td>4</td>\n",
       "      <td>2</td>\n",
       "      <td>...</td>\n",
       "      <td>0</td>\n",
       "      <td>0</td>\n",
       "      <td>{\"device_codename\": \"santoni\", \"brand\": \"Xiaomi\"}</td>\n",
       "      <td>{\"percent_incoming_nighttime\": 1.27, \"percent_...</td>\n",
       "      <td>id</td>\n",
       "      <td>['cn.wps.moffice_eng', 'com.vuclip.viu', 'com....</td>\n",
       "      <td>NaN</td>\n",
       "      <td>NaN</td>\n",
       "      <td>NaN</td>\n",
       "      <td>NaN</td>\n",
       "    </tr>\n",
       "    <tr>\n",
       "      <th>41021</th>\n",
       "      <td>0</td>\n",
       "      <td>34</td>\n",
       "      <td>2</td>\n",
       "      <td>11/07/2018 23:28</td>\n",
       "      <td>1188</td>\n",
       "      <td>5000000</td>\n",
       "      <td>3</td>\n",
       "      <td>51</td>\n",
       "      <td>4</td>\n",
       "      <td>2</td>\n",
       "      <td>...</td>\n",
       "      <td>2</td>\n",
       "      <td>161</td>\n",
       "      <td>{\"device_codename\": \"ugglite\", \"brand\": \"xiaomi\"}</td>\n",
       "      <td>{\"percent_incoming_nighttime\": 3.91, \"percent_...</td>\n",
       "      <td>id</td>\n",
       "      <td>['com.shopee.id', 'org.mozilla.firefox', 'org....</td>\n",
       "      <td>female</td>\n",
       "      <td>10/29/1983</td>\n",
       "      <td>2018-01-03T09:41:23+0000</td>\n",
       "      <td>NaN</td>\n",
       "    </tr>\n",
       "  </tbody>\n",
       "</table>\n",
       "<p>41022 rows × 21 columns</p>\n",
       "</div>"
      ],
      "text/plain": [
       "       flag_bad  de_age  de_gender    de_date_joined  de_num_friends  \\\n",
       "0             0      26          1  08/04/2018 14:50            2535   \n",
       "1             0      22          1  02/01/2018 17:17             685   \n",
       "2             1      32          1  01/01/2018 16:39            1765   \n",
       "3             0      31          2  04/01/2018 22:36             407   \n",
       "4             0      27          1  02/01/2018 18:12            3064   \n",
       "...         ...     ...        ...               ...             ...   \n",
       "41017         0      27          2  11/07/2018 22:23             997   \n",
       "41018         0      26          1  11/07/2018 20:28             955   \n",
       "41019         0      22          2  11/07/2018 23:33             881   \n",
       "41020         0      29          2  11/07/2018 22:03             540   \n",
       "41021         0      34          2  11/07/2018 23:28            1188   \n",
       "\n",
       "       de_monthly_salary  de_employment_type  de_employment_duration  \\\n",
       "0                3000000                   1                      51   \n",
       "1                4000000                   1                      28   \n",
       "2                7000000                   1                      35   \n",
       "3               20000000                   3                      37   \n",
       "4                3000000                   1                      36   \n",
       "...                  ...                 ...                     ...   \n",
       "41017            5000000                   2                      51   \n",
       "41018            3000000                   2                      24   \n",
       "41019            3000000                   1                       9   \n",
       "41020            6000000                   1                      51   \n",
       "41021            5000000                   3                      51   \n",
       "\n",
       "       de_accomodation_type  de_education  ...  de_children  \\\n",
       "0                         4             2  ...            0   \n",
       "1                         4             4  ...            0   \n",
       "2                         4             4  ...            2   \n",
       "3                         4             3  ...            2   \n",
       "4                         4             3  ...            0   \n",
       "...                     ...           ...  ...          ...   \n",
       "41017                     4             2  ...            2   \n",
       "41018                     4             2  ...            0   \n",
       "41019                     4             4  ...            0   \n",
       "41020                     4             2  ...            0   \n",
       "41021                     4             2  ...            2   \n",
       "\n",
       "       ph_total_contacts                               ph_other_device_info  \\\n",
       "0                     66  {\"device_codename\": \"HM2014817\", \"brand\": \"Xia...   \n",
       "1                     69      {\"device_codename\": \"A1601\", \"brand\": \"OPPO\"}   \n",
       "2                    315      {\"device_codename\": \"A1601\", \"brand\": \"OPPO\"}   \n",
       "3                     84      {\"device_codename\": \"A1601\", \"brand\": \"OPPO\"}   \n",
       "4                      0       {\"device_codename\": \"1609\", \"brand\": \"vivo\"}   \n",
       "...                  ...                                                ...   \n",
       "41017               1026      {\"device_codename\": \"A1601\", \"brand\": \"OPPO\"}   \n",
       "41018                  0    {\"device_codename\": \"nikel\", \"brand\": \"Xiaomi\"}   \n",
       "41019                272    {\"device_codename\": \"a33g\", \"brand\": \"samsung\"}   \n",
       "41020                  0  {\"device_codename\": \"santoni\", \"brand\": \"Xiaomi\"}   \n",
       "41021                161  {\"device_codename\": \"ugglite\", \"brand\": \"xiaomi\"}   \n",
       "\n",
       "                                       ph_call_log_stats ph_country_code  \\\n",
       "0      {\"percent_incoming_nighttime\": 1.83, \"percent_...              id   \n",
       "1      {\"percent_incoming_nighttime\": 0.0, \"percent_o...              id   \n",
       "2      {\"percent_incoming_nighttime\": 6.65, \"percent_...              id   \n",
       "3      {\"percent_incoming_nighttime\": 0.0, \"percent_o...              id   \n",
       "4      {\"percent_incoming_nighttime\": 0.0, \"percent_o...              id   \n",
       "...                                                  ...             ...   \n",
       "41017  {\"percent_incoming_nighttime\": 5.66, \"percent_...              id   \n",
       "41018  {\"percent_incoming_nighttime\": 10.71, \"percent...              id   \n",
       "41019  {\"percent_incoming_nighttime\": 0.0, \"percent_o...              id   \n",
       "41020  {\"percent_incoming_nighttime\": 1.27, \"percent_...              id   \n",
       "41021  {\"percent_incoming_nighttime\": 3.91, \"percent_...              id   \n",
       "\n",
       "                                             ph_app_list fb_gender  \\\n",
       "0      ['com.google.android.music', 'com.facebook.orc...      male   \n",
       "1      ['com.google.android.instantapps.supervisor', ...      male   \n",
       "2      ['com.tencent.ibg.joox', 'com.mrgames.larvaact...      male   \n",
       "3      ['com.kfit.fave', 'app.bpjs.mobile', 'com.redd...    female   \n",
       "4      ['com.lenovo.anyshare.gps', 'com.UCMobile.intl...      male   \n",
       "...                                                  ...       ...   \n",
       "41017  ['com.instagram.android', 'com.google.android....       NaN   \n",
       "41018  ['com.youmusic.magictiles', 'com.ayopop', 'com...       NaN   \n",
       "41019  ['com.grabtaxi.passenger', 'jp.co.translimit.b...    female   \n",
       "41020  ['cn.wps.moffice_eng', 'com.vuclip.viu', 'com....       NaN   \n",
       "41021  ['com.shopee.id', 'org.mozilla.firefox', 'org....    female   \n",
       "\n",
       "           fb_dob      fb_last_updated_date        fb_relation  \n",
       "0      11/23/1991  2017-12-21T04:38:00+0000            Married  \n",
       "1      01/20/1995  2017-11-25T17:23:09+0000                NaN  \n",
       "2      10/13/1985  2017-12-23T18:05:57+0000            Married  \n",
       "3      07/27/1986  2017-12-05T09:37:19+0000            Married  \n",
       "4      07/05/1990  2017-12-03T09:09:48+0000  In a relationship  \n",
       "...           ...                       ...                ...  \n",
       "41017         NaN                       NaN                NaN  \n",
       "41018         NaN                       NaN                NaN  \n",
       "41019  10/02/1995  2017-10-25T08:05:13+0000                NaN  \n",
       "41020         NaN                       NaN                NaN  \n",
       "41021  10/29/1983  2018-01-03T09:41:23+0000                NaN  \n",
       "\n",
       "[41022 rows x 21 columns]"
      ]
     },
     "execution_count": 2,
     "metadata": {},
     "output_type": "execute_result"
    }
   ],
   "source": [
    "df = pd.read_csv('demographic.csv')\n",
    "df = df.drop('index', axis=1)\n",
    "df"
   ]
  },
  {
   "cell_type": "markdown",
   "id": "08d8f8d6-e1c4-45e2-a72f-58092aaa569b",
   "metadata": {},
   "source": [
    "We have 20 features with flag_bad as the target label"
   ]
  },
  {
   "cell_type": "code",
   "execution_count": 3,
   "id": "3dfcd012-5c3a-4e75-91d0-b497a676f32a",
   "metadata": {},
   "outputs": [
    {
     "name": "stdout",
     "output_type": "stream",
     "text": [
      "<class 'pandas.core.frame.DataFrame'>\n",
      "RangeIndex: 41022 entries, 0 to 41021\n",
      "Data columns (total 21 columns):\n",
      " #   Column                  Non-Null Count  Dtype \n",
      "---  ------                  --------------  ----- \n",
      " 0   flag_bad                41022 non-null  int64 \n",
      " 1   de_age                  41022 non-null  int64 \n",
      " 2   de_gender               41022 non-null  int64 \n",
      " 3   de_date_joined          41022 non-null  object\n",
      " 4   de_num_friends          41022 non-null  int64 \n",
      " 5   de_monthly_salary       41022 non-null  int64 \n",
      " 6   de_employment_type      41022 non-null  int64 \n",
      " 7   de_employment_duration  41022 non-null  int64 \n",
      " 8   de_accomodation_type    41022 non-null  int64 \n",
      " 9   de_education            41022 non-null  int64 \n",
      " 10  de_marital_status       41022 non-null  int64 \n",
      " 11  de_children             41022 non-null  int64 \n",
      " 12  ph_total_contacts       41022 non-null  int64 \n",
      " 13  ph_other_device_info    41022 non-null  object\n",
      " 14  ph_call_log_stats       38935 non-null  object\n",
      " 15  ph_country_code         40997 non-null  object\n",
      " 16  ph_app_list             41022 non-null  object\n",
      " 17  fb_gender               39509 non-null  object\n",
      " 18  fb_dob                  31369 non-null  object\n",
      " 19  fb_last_updated_date    39552 non-null  object\n",
      " 20  fb_relation             14561 non-null  object\n",
      "dtypes: int64(12), object(9)\n",
      "memory usage: 6.6+ MB\n"
     ]
    }
   ],
   "source": [
    "df.info()"
   ]
  },
  {
   "cell_type": "markdown",
   "id": "a78bea3d-188d-4269-aa82-e3f2b328edd4",
   "metadata": {},
   "source": [
    "Null analysis shows several column has null values (by fraction/percentage)"
   ]
  },
  {
   "cell_type": "code",
   "execution_count": 4,
   "id": "c3ac5ac5-9829-4516-954c-01e2f5e9622a",
   "metadata": {},
   "outputs": [
    {
     "data": {
      "text/plain": [
       "flag_bad                  0.000000\n",
       "de_age                    0.000000\n",
       "de_gender                 0.000000\n",
       "de_date_joined            0.000000\n",
       "de_num_friends            0.000000\n",
       "de_monthly_salary         0.000000\n",
       "de_employment_type        0.000000\n",
       "de_employment_duration    0.000000\n",
       "de_accomodation_type      0.000000\n",
       "de_education              0.000000\n",
       "de_marital_status         0.000000\n",
       "de_children               0.000000\n",
       "ph_total_contacts         0.000000\n",
       "ph_other_device_info      0.000000\n",
       "ph_call_log_stats         0.050875\n",
       "ph_country_code           0.000609\n",
       "ph_app_list               0.000000\n",
       "fb_gender                 0.036883\n",
       "fb_dob                    0.235313\n",
       "fb_last_updated_date      0.035834\n",
       "fb_relation               0.645044\n",
       "dtype: float64"
      ]
     },
     "execution_count": 4,
     "metadata": {},
     "output_type": "execute_result"
    }
   ],
   "source": [
    "df.isna().sum()/len(df)"
   ]
  },
  {
   "cell_type": "markdown",
   "id": "71fc3571-431e-452a-87b2-7c9f432d4ef6",
   "metadata": {},
   "source": [
    "Balanceness of data shown that we have ~13% bad label"
   ]
  },
  {
   "cell_type": "code",
   "execution_count": 5,
   "id": "08229183-b1aa-47be-8031-c66eea0bba90",
   "metadata": {},
   "outputs": [
    {
     "data": {
      "text/plain": [
       "flag_bad\n",
       "0    0.870313\n",
       "1    0.129687\n",
       "Name: count, dtype: float64"
      ]
     },
     "execution_count": 5,
     "metadata": {},
     "output_type": "execute_result"
    }
   ],
   "source": [
    "df.flag_bad.value_counts()/len(df)"
   ]
  },
  {
   "cell_type": "markdown",
   "id": "297e8218-e85d-48ff-b173-9887134a89ba",
   "metadata": {},
   "source": [
    "Accomodation type can't be used as it only have single value: 4"
   ]
  },
  {
   "cell_type": "code",
   "execution_count": 6,
   "id": "ab80d85f-f41e-42cf-b09d-b9781b7f4de7",
   "metadata": {},
   "outputs": [
    {
     "data": {
      "text/plain": [
       "de_accomodation_type\n",
       "4    41022\n",
       "Name: count, dtype: int64"
      ]
     },
     "execution_count": 6,
     "metadata": {},
     "output_type": "execute_result"
    }
   ],
   "source": [
    "df.de_accomodation_type.value_counts(dropna=False)"
   ]
  },
  {
   "cell_type": "markdown",
   "id": "5550b28a-57a5-4d7d-a2a5-e37b73ac908e",
   "metadata": {},
   "source": [
    "The country code label is very unbalanced, we may not use this as the feature for modelling but we can use this for visualization"
   ]
  },
  {
   "cell_type": "code",
   "execution_count": 7,
   "id": "0702390f-777e-46e5-879b-0a15fd44a083",
   "metadata": {},
   "outputs": [
    {
     "data": {
      "text/plain": [
       "ph_country_code\n",
       "id     40984\n",
       "NaN       25\n",
       "us         3\n",
       "sg         3\n",
       "my         2\n",
       "jp         2\n",
       "tw         1\n",
       "kh         1\n",
       "th         1\n",
       "Name: count, dtype: int64"
      ]
     },
     "execution_count": 7,
     "metadata": {},
     "output_type": "execute_result"
    }
   ],
   "source": [
    "df.ph_country_code.value_counts(dropna=False)"
   ]
  },
  {
   "cell_type": "markdown",
   "id": "b9d25094-9798-48b3-a347-b7a667298ebf",
   "metadata": {},
   "source": [
    "Based on these:\n",
    "\n",
    "1. We will use precision and recall as the metrics considering this as the unbalanced study case\n",
    "2. There are several column we need to treat, but we can label it as unstated also and see the result\n",
    "3. We need to clean data"
   ]
  },
  {
   "cell_type": "code",
   "execution_count": 8,
   "id": "f2579809-04d8-4671-b3c8-4f63f909b7e9",
   "metadata": {},
   "outputs": [
    {
     "data": {
      "text/plain": [
       "de_employment_type\n",
       "1    29566\n",
       "2     6621\n",
       "3     4833\n",
       "4        2\n",
       "Name: count, dtype: int64"
      ]
     },
     "execution_count": 8,
     "metadata": {},
     "output_type": "execute_result"
    }
   ],
   "source": [
    "df.de_employment_type.value_counts()"
   ]
  },
  {
   "cell_type": "markdown",
   "id": "24407a26-30d2-4889-aedd-4035679c1831",
   "metadata": {},
   "source": [
    "We need to assign category 4, lets say to category 3, because there's no category 4 based on documentation"
   ]
  },
  {
   "cell_type": "code",
   "execution_count": 9,
   "id": "72cb05ba-add9-4f47-96b0-85690f7ed285",
   "metadata": {},
   "outputs": [],
   "source": [
    "df.de_employment_type = df.de_employment_type.replace(4,3)"
   ]
  },
  {
   "cell_type": "markdown",
   "id": "0494e2ea-41bf-4627-91ec-2e531999659d",
   "metadata": {},
   "source": [
    "# Visualization & Exploration"
   ]
  },
  {
   "cell_type": "markdown",
   "id": "06bf53a3-2bae-44d2-9ac6-ae74ad95ae00",
   "metadata": {},
   "source": [
    "### Country Code"
   ]
  },
  {
   "cell_type": "markdown",
   "id": "a5f94ddc-d0dc-402c-86f2-a258c75924d3",
   "metadata": {},
   "source": [
    "I suspect non-indonesian country code can sign fraud/bad, but let's see."
   ]
  },
  {
   "cell_type": "code",
   "execution_count": 10,
   "id": "a8cbb89b-8c98-4a2a-976c-93bced639c8c",
   "metadata": {},
   "outputs": [
    {
     "data": {
      "image/png": "[encoded data removed]",
      "text/plain": [
       "<Figure size 640x480 with 1 Axes>"
      ]
     },
     "metadata": {},
     "output_type": "display_data"
    }
   ],
   "source": [
    "# Countplot with hue\n",
    "sns.countplot(data=df[df.ph_country_code!='id'].fillna('NaN'), x='ph_country_code', hue='flag_bad')\n",
    "\n",
    "plt.title(\"Flag Bad by Country Code\")\n",
    "plt.xticks(rotation=45)\n",
    "plt.show()"
   ]
  },
  {
   "cell_type": "code",
   "execution_count": 11,
   "id": "c52ddb1b-f3d2-47e0-b1e0-0dd70168fff8",
   "metadata": {},
   "outputs": [
    {
     "data": {
      "text/plain": [
       "np.float64(0.10526315789473684)"
      ]
     },
     "execution_count": 11,
     "metadata": {},
     "output_type": "execute_result"
    }
   ],
   "source": [
    "df[df.ph_country_code!='id'].flag_bad.mean()"
   ]
  },
  {
   "cell_type": "code",
   "execution_count": 12,
   "id": "9434fb80-87d3-4181-b3be-8b3110bb9cfb",
   "metadata": {},
   "outputs": [
    {
     "data": {
      "text/plain": [
       "np.float64(0.129709154792114)"
      ]
     },
     "execution_count": 12,
     "metadata": {},
     "output_type": "execute_result"
    }
   ],
   "source": [
    "df[df.ph_country_code=='id'].flag_bad.mean()"
   ]
  },
  {
   "cell_type": "markdown",
   "id": "262891c2-15b5-40ed-a412-d80be652679c",
   "metadata": {},
   "source": [
    "Not really. not much see difference."
   ]
  },
  {
   "cell_type": "markdown",
   "id": "5e7fd10b-3109-4d41-a7fa-3687e3a60c5c",
   "metadata": {},
   "source": [
    "### Inconsistent Gender"
   ]
  },
  {
   "cell_type": "markdown",
   "id": "830c6769-06e4-4822-895f-48fdb4cafefd",
   "metadata": {},
   "source": [
    "Inconsistent gender can indicate something."
   ]
  },
  {
   "cell_type": "code",
   "execution_count": 13,
   "id": "8535f26c-0f8b-4a49-831d-c358bba1fb86",
   "metadata": {},
   "outputs": [
    {
     "data": {
      "text/html": [
       "<div>\n",
       "<style scoped>\n",
       "    .dataframe tbody tr th:only-of-type {\n",
       "        vertical-align: middle;\n",
       "    }\n",
       "\n",
       "    .dataframe tbody tr th {\n",
       "        vertical-align: top;\n",
       "    }\n",
       "\n",
       "    .dataframe thead th {\n",
       "        text-align: right;\n",
       "    }\n",
       "</style>\n",
       "<table border=\"1\" class=\"dataframe\">\n",
       "  <thead>\n",
       "    <tr style=\"text-align: right;\">\n",
       "      <th></th>\n",
       "      <th>flag_bad</th>\n",
       "      <th>de_age</th>\n",
       "      <th>de_gender</th>\n",
       "      <th>de_date_joined</th>\n",
       "      <th>de_num_friends</th>\n",
       "      <th>de_monthly_salary</th>\n",
       "      <th>de_employment_type</th>\n",
       "      <th>de_employment_duration</th>\n",
       "      <th>de_accomodation_type</th>\n",
       "      <th>de_education</th>\n",
       "      <th>...</th>\n",
       "      <th>de_children</th>\n",
       "      <th>ph_total_contacts</th>\n",
       "      <th>ph_other_device_info</th>\n",
       "      <th>ph_call_log_stats</th>\n",
       "      <th>ph_country_code</th>\n",
       "      <th>ph_app_list</th>\n",
       "      <th>fb_gender</th>\n",
       "      <th>fb_dob</th>\n",
       "      <th>fb_last_updated_date</th>\n",
       "      <th>fb_relation</th>\n",
       "    </tr>\n",
       "  </thead>\n",
       "  <tbody>\n",
       "    <tr>\n",
       "      <th>19</th>\n",
       "      <td>0</td>\n",
       "      <td>31</td>\n",
       "      <td>1</td>\n",
       "      <td>05/01/2018 19:08</td>\n",
       "      <td>456</td>\n",
       "      <td>4000000</td>\n",
       "      <td>1</td>\n",
       "      <td>27</td>\n",
       "      <td>4</td>\n",
       "      <td>2</td>\n",
       "      <td>...</td>\n",
       "      <td>0</td>\n",
       "      <td>0</td>\n",
       "      <td>{\"device_codename\": \"1606\", \"brand\": \"vivo\"}</td>\n",
       "      <td>{\"percent_incoming_nighttime\": 6.45, \"percent_...</td>\n",
       "      <td>id</td>\n",
       "      <td>['com.TanApps.FindTheDifferences300', 'com.kin...</td>\n",
       "      <td>female</td>\n",
       "      <td>10/15/1986</td>\n",
       "      <td>2017-12-01T10:32:20+0000</td>\n",
       "      <td>Single</td>\n",
       "    </tr>\n",
       "    <tr>\n",
       "      <th>24</th>\n",
       "      <td>0</td>\n",
       "      <td>24</td>\n",
       "      <td>1</td>\n",
       "      <td>01/01/2018 12:25</td>\n",
       "      <td>174</td>\n",
       "      <td>4000000</td>\n",
       "      <td>1</td>\n",
       "      <td>24</td>\n",
       "      <td>4</td>\n",
       "      <td>4</td>\n",
       "      <td>...</td>\n",
       "      <td>0</td>\n",
       "      <td>0</td>\n",
       "      <td>{\"device_codename\": \"on5xelte\", \"brand\": \"sams...</td>\n",
       "      <td>{\"percent_incoming_nighttime\": 6.06, \"percent_...</td>\n",
       "      <td>id</td>\n",
       "      <td>['com.google.android.apps.translate', 'com.sho...</td>\n",
       "      <td>female</td>\n",
       "      <td>06/13/1993</td>\n",
       "      <td>2017-10-14T15:36:29+0000</td>\n",
       "      <td>Single</td>\n",
       "    </tr>\n",
       "    <tr>\n",
       "      <th>48</th>\n",
       "      <td>0</td>\n",
       "      <td>27</td>\n",
       "      <td>1</td>\n",
       "      <td>01/01/2018 13:45</td>\n",
       "      <td>4964</td>\n",
       "      <td>4000000</td>\n",
       "      <td>2</td>\n",
       "      <td>51</td>\n",
       "      <td>4</td>\n",
       "      <td>2</td>\n",
       "      <td>...</td>\n",
       "      <td>1</td>\n",
       "      <td>0</td>\n",
       "      <td>{\"device_codename\": \"XT1663\", \"brand\": \"motoro...</td>\n",
       "      <td>{\"percent_incoming_nighttime\": 1.92, \"percent_...</td>\n",
       "      <td>id</td>\n",
       "      <td>['com.bca', 'com.shopback.app', 'ovo.id', 'com...</td>\n",
       "      <td>female</td>\n",
       "      <td>01/26/1988</td>\n",
       "      <td>2017-12-29T11:48:23+0000</td>\n",
       "      <td>NaN</td>\n",
       "    </tr>\n",
       "    <tr>\n",
       "      <th>98</th>\n",
       "      <td>0</td>\n",
       "      <td>25</td>\n",
       "      <td>1</td>\n",
       "      <td>03/03/2018 11:45</td>\n",
       "      <td>1171</td>\n",
       "      <td>4000000</td>\n",
       "      <td>1</td>\n",
       "      <td>6</td>\n",
       "      <td>4</td>\n",
       "      <td>3</td>\n",
       "      <td>...</td>\n",
       "      <td>0</td>\n",
       "      <td>639</td>\n",
       "      <td>{\"device_codename\": \"iPhone6,1\", \"brand\": \"App...</td>\n",
       "      <td>NaN</td>\n",
       "      <td>id</td>\n",
       "      <td>[]</td>\n",
       "      <td>female</td>\n",
       "      <td>03/22/1992</td>\n",
       "      <td>2017-06-06T09:27:16+0000</td>\n",
       "      <td>In a domestic partnership</td>\n",
       "    </tr>\n",
       "    <tr>\n",
       "      <th>161</th>\n",
       "      <td>0</td>\n",
       "      <td>26</td>\n",
       "      <td>1</td>\n",
       "      <td>02/01/2018 23:30</td>\n",
       "      <td>1663</td>\n",
       "      <td>5000000</td>\n",
       "      <td>1</td>\n",
       "      <td>25</td>\n",
       "      <td>4</td>\n",
       "      <td>3</td>\n",
       "      <td>...</td>\n",
       "      <td>2</td>\n",
       "      <td>206</td>\n",
       "      <td>{\"device_codename\": \"A37f\", \"brand\": \"OPPO\"}</td>\n",
       "      <td>{\"percent_incoming_nighttime\": 0.0, \"percent_o...</td>\n",
       "      <td>id</td>\n",
       "      <td>['com.grabtaxi.passenger', 'com.gta.real.gangs...</td>\n",
       "      <td>female</td>\n",
       "      <td>04/06/1994</td>\n",
       "      <td>2017-12-17T04:43:37+0000</td>\n",
       "      <td>In a relationship</td>\n",
       "    </tr>\n",
       "  </tbody>\n",
       "</table>\n",
       "<p>5 rows × 21 columns</p>\n",
       "</div>"
      ],
      "text/plain": [
       "     flag_bad  de_age  de_gender    de_date_joined  de_num_friends  \\\n",
       "19          0      31          1  05/01/2018 19:08             456   \n",
       "24          0      24          1  01/01/2018 12:25             174   \n",
       "48          0      27          1  01/01/2018 13:45            4964   \n",
       "98          0      25          1  03/03/2018 11:45            1171   \n",
       "161         0      26          1  02/01/2018 23:30            1663   \n",
       "\n",
       "     de_monthly_salary  de_employment_type  de_employment_duration  \\\n",
       "19             4000000                   1                      27   \n",
       "24             4000000                   1                      24   \n",
       "48             4000000                   2                      51   \n",
       "98             4000000                   1                       6   \n",
       "161            5000000                   1                      25   \n",
       "\n",
       "     de_accomodation_type  de_education  ...  de_children  ph_total_contacts  \\\n",
       "19                      4             2  ...            0                  0   \n",
       "24                      4             4  ...            0                  0   \n",
       "48                      4             2  ...            1                  0   \n",
       "98                      4             3  ...            0                639   \n",
       "161                     4             3  ...            2                206   \n",
       "\n",
       "                                  ph_other_device_info  \\\n",
       "19        {\"device_codename\": \"1606\", \"brand\": \"vivo\"}   \n",
       "24   {\"device_codename\": \"on5xelte\", \"brand\": \"sams...   \n",
       "48   {\"device_codename\": \"XT1663\", \"brand\": \"motoro...   \n",
       "98   {\"device_codename\": \"iPhone6,1\", \"brand\": \"App...   \n",
       "161       {\"device_codename\": \"A37f\", \"brand\": \"OPPO\"}   \n",
       "\n",
       "                                     ph_call_log_stats ph_country_code  \\\n",
       "19   {\"percent_incoming_nighttime\": 6.45, \"percent_...              id   \n",
       "24   {\"percent_incoming_nighttime\": 6.06, \"percent_...              id   \n",
       "48   {\"percent_incoming_nighttime\": 1.92, \"percent_...              id   \n",
       "98                                                 NaN              id   \n",
       "161  {\"percent_incoming_nighttime\": 0.0, \"percent_o...              id   \n",
       "\n",
       "                                           ph_app_list fb_gender      fb_dob  \\\n",
       "19   ['com.TanApps.FindTheDifferences300', 'com.kin...    female  10/15/1986   \n",
       "24   ['com.google.android.apps.translate', 'com.sho...    female  06/13/1993   \n",
       "48   ['com.bca', 'com.shopback.app', 'ovo.id', 'com...    female  01/26/1988   \n",
       "98                                                  []    female  03/22/1992   \n",
       "161  ['com.grabtaxi.passenger', 'com.gta.real.gangs...    female  04/06/1994   \n",
       "\n",
       "         fb_last_updated_date                fb_relation  \n",
       "19   2017-12-01T10:32:20+0000                     Single  \n",
       "24   2017-10-14T15:36:29+0000                     Single  \n",
       "48   2017-12-29T11:48:23+0000                        NaN  \n",
       "98   2017-06-06T09:27:16+0000  In a domestic partnership  \n",
       "161  2017-12-17T04:43:37+0000          In a relationship  \n",
       "\n",
       "[5 rows x 21 columns]"
      ]
     },
     "execution_count": 13,
     "metadata": {},
     "output_type": "execute_result"
    }
   ],
   "source": [
    "a = (df.de_gender.replace({1:'male', 2:'female'})==df.fb_gender).where(df.fb_gender.notna())\n",
    "df[a.fillna(True)==False].head()"
   ]
  },
  {
   "cell_type": "code",
   "execution_count": 14,
   "id": "eee8c1c3-ddfa-4658-833e-ede406f28382",
   "metadata": {},
   "outputs": [
    {
     "data": {
      "text/plain": [
       "758"
      ]
     },
     "execution_count": 14,
     "metadata": {},
     "output_type": "execute_result"
    }
   ],
   "source": [
    "len(df[a.fillna(True)==False])"
   ]
  },
  {
   "cell_type": "markdown",
   "id": "03031ae6-9d17-49c0-ba54-02eb820c3a45",
   "metadata": {},
   "source": [
    "People that having gender difference in FB weights 1 more at:"
   ]
  },
  {
   "cell_type": "code",
   "execution_count": 15,
   "id": "b11c28cf-af40-4c61-bb61-abdd72555a1d",
   "metadata": {},
   "outputs": [
    {
     "data": {
      "text/plain": [
       "np.float64(0.20976253298153033)"
      ]
     },
     "execution_count": 15,
     "metadata": {},
     "output_type": "execute_result"
    }
   ],
   "source": [
    "df[a.fillna(True)==False].flag_bad.mean()"
   ]
  },
  {
   "cell_type": "markdown",
   "id": "eb93da0c-dcb2-486d-92f1-36a231a5c74a",
   "metadata": {},
   "source": [
    "While for conistent person"
   ]
  },
  {
   "cell_type": "code",
   "execution_count": 16,
   "id": "615dde92-2213-4264-9982-c10be9300672",
   "metadata": {},
   "outputs": [
    {
     "data": {
      "text/plain": [
       "np.float64(0.12817901847804491)"
      ]
     },
     "execution_count": 16,
     "metadata": {},
     "output_type": "execute_result"
    }
   ],
   "source": [
    "df[a.fillna(True)].flag_bad.mean()"
   ]
  },
  {
   "cell_type": "markdown",
   "id": "847ea92b-5e14-4e0a-a7e9-47e075ba89d1",
   "metadata": {},
   "source": [
    "And person dont fill the facebook gender"
   ]
  },
  {
   "cell_type": "code",
   "execution_count": 17,
   "id": "1a92ccea-eb53-4bb5-9cc2-5a006fcc1656",
   "metadata": {},
   "outputs": [
    {
     "data": {
      "text/plain": [
       "np.float64(0.10046265697290152)"
      ]
     },
     "execution_count": 17,
     "metadata": {},
     "output_type": "execute_result"
    }
   ],
   "source": [
    "df[a.isna()].flag_bad.mean()"
   ]
  },
  {
   "cell_type": "markdown",
   "id": "33f44af4-6a51-4261-b643-7ecaf27f349c",
   "metadata": {},
   "source": [
    "This is a clear difference"
   ]
  },
  {
   "cell_type": "markdown",
   "id": "46c04f41-542b-43e6-b69b-b1e41d27d68a",
   "metadata": {},
   "source": [
    "### Gender"
   ]
  },
  {
   "cell_type": "code",
   "execution_count": 18,
   "id": "aa54bc2d-002e-4b6c-888e-b5ea58b7f176",
   "metadata": {},
   "outputs": [
    {
     "data": {
      "text/plain": [
       "de_gender  flag_bad\n",
       "1          0           21574\n",
       "2          0           14128\n",
       "1          1            3512\n",
       "2          1            1808\n",
       "Name: count, dtype: int64"
      ]
     },
     "execution_count": 18,
     "metadata": {},
     "output_type": "execute_result"
    }
   ],
   "source": [
    "df[['de_gender', 'flag_bad']].value_counts()"
   ]
  },
  {
   "cell_type": "code",
   "execution_count": 19,
   "id": "70ac7a12-6048-4eda-8cb1-5cb8838cfc9d",
   "metadata": {},
   "outputs": [
    {
     "data": {
      "text/plain": [
       "np.float64(0.13999840548513115)"
      ]
     },
     "execution_count": 19,
     "metadata": {},
     "output_type": "execute_result"
    }
   ],
   "source": [
    "df[df.de_gender==1].flag_bad.mean()"
   ]
  },
  {
   "cell_type": "code",
   "execution_count": 20,
   "id": "cda91416-8aef-44b8-91fa-a08b5838238d",
   "metadata": {},
   "outputs": [
    {
     "data": {
      "text/plain": [
       "np.float64(0.11345381526104417)"
      ]
     },
     "execution_count": 20,
     "metadata": {},
     "output_type": "execute_result"
    }
   ],
   "source": [
    "df[df.de_gender==2].flag_bad.mean()"
   ]
  },
  {
   "cell_type": "code",
   "execution_count": 21,
   "id": "88506971-ec71-4961-9395-9631f329ba4f",
   "metadata": {},
   "outputs": [
    {
     "data": {
      "text/plain": [
       "fb_gender  flag_bad\n",
       "male       0           20607\n",
       "female     0           13734\n",
       "male       1            3406\n",
       "female     1            1762\n",
       "Name: count, dtype: int64"
      ]
     },
     "execution_count": 21,
     "metadata": {},
     "output_type": "execute_result"
    }
   ],
   "source": [
    "df[['fb_gender', 'flag_bad']].value_counts()"
   ]
  },
  {
   "cell_type": "code",
   "execution_count": 22,
   "id": "0f101b25-a544-4566-af33-795daa9e2517",
   "metadata": {},
   "outputs": [
    {
     "data": {
      "text/plain": [
       "np.float64(0.141839836755091)"
      ]
     },
     "execution_count": 22,
     "metadata": {},
     "output_type": "execute_result"
    }
   ],
   "source": [
    "df[df.fb_gender=='male'].flag_bad.mean()"
   ]
  },
  {
   "cell_type": "code",
   "execution_count": 23,
   "id": "5ddc85d9-c0c8-49af-ac28-8b451236c484",
   "metadata": {},
   "outputs": [
    {
     "data": {
      "text/plain": [
       "np.float64(0.11370676303562209)"
      ]
     },
     "execution_count": 23,
     "metadata": {},
     "output_type": "execute_result"
    }
   ],
   "source": [
    "df[df.fb_gender=='female'].flag_bad.mean()"
   ]
  },
  {
   "cell_type": "markdown",
   "id": "fba9b57b-0817-4cb6-8a79-81678239c18a",
   "metadata": {},
   "source": [
    "Male tends to have more bad flag, but we need to be inclusive to all gender, so we drop this pure-gender feature. Moreover the difference is not really significant like inconsistent gender we found before."
   ]
  },
  {
   "cell_type": "markdown",
   "id": "0a6bcdbc-d175-436d-b29a-fe3d9dd7eecf",
   "metadata": {},
   "source": [
    "### Num Friends"
   ]
  },
  {
   "cell_type": "code",
   "execution_count": 24,
   "id": "72d8f899-9f24-4d5c-b843-dc2a9121df54",
   "metadata": {},
   "outputs": [
    {
     "data": {
      "image/png": "[encoded data removed]",
      "text/plain": [
       "<Figure size 2400x200 with 1 Axes>"
      ]
     },
     "metadata": {},
     "output_type": "display_data"
    }
   ],
   "source": [
    "fig, ax = plt.subplots(figsize=(24,2))\n",
    "sns.boxplot(df[['de_num_friends', 'flag_bad']], x='de_num_friends', y='flag_bad', orient='h');"
   ]
  },
  {
   "cell_type": "markdown",
   "id": "8fc31d88-b8eb-452f-9a02-6ba613d3acd9",
   "metadata": {},
   "source": [
    "Although having some outliers, its OK for model that can handle outliers like xgboost."
   ]
  },
  {
   "cell_type": "markdown",
   "id": "cf4cd67b-0916-4a40-895c-bf9ed4c485f3",
   "metadata": {},
   "source": [
    "### Monthly Salary"
   ]
  },
  {
   "cell_type": "code",
   "execution_count": 25,
   "id": "f1d4c588-ef5a-46f7-949e-8461045f3369",
   "metadata": {},
   "outputs": [
    {
     "data": {
      "image/png": "[encoded data removed]",
      "text/plain": [
       "<Figure size 2400x200 with 1 Axes>"
      ]
     },
     "metadata": {},
     "output_type": "display_data"
    }
   ],
   "source": [
    "fig, ax = plt.subplots(figsize=(24,2))\n",
    "sns.boxplot(df[['de_monthly_salary', 'flag_bad']], x='de_monthly_salary', y='flag_bad', orient='h');"
   ]
  },
  {
   "cell_type": "markdown",
   "id": "7b4d86fb-3273-4c21-8853-489d0bb31ab6",
   "metadata": {},
   "source": [
    "Still make sense and trees model can handle outlier"
   ]
  },
  {
   "cell_type": "markdown",
   "id": "8b77e18f-06a3-45b3-af8e-fd0df43c3f41",
   "metadata": {},
   "source": [
    "### Marital Status"
   ]
  },
  {
   "cell_type": "code",
   "execution_count": 26,
   "id": "0eb200a2-c50f-40cc-809a-7d56dff16897",
   "metadata": {},
   "outputs": [
    {
     "data": {
      "text/plain": [
       "de_marital_status\n",
       "1    20154\n",
       "2    20020\n",
       "3      500\n",
       "4      348\n",
       "Name: count, dtype: int64"
      ]
     },
     "execution_count": 26,
     "metadata": {},
     "output_type": "execute_result"
    }
   ],
   "source": [
    "df.de_marital_status.value_counts()"
   ]
  },
  {
   "cell_type": "code",
   "execution_count": 27,
   "id": "6a010c9b-d934-4ab6-97d9-4e1e2aee99ec",
   "metadata": {},
   "outputs": [
    {
     "data": {
      "text/plain": [
       "de_marital_status\n",
       "1    0.129503\n",
       "2    0.126024\n",
       "3    0.196000\n",
       "4    0.255747\n",
       "Name: flag_bad, dtype: float64"
      ]
     },
     "execution_count": 27,
     "metadata": {},
     "output_type": "execute_result"
    }
   ],
   "source": [
    "df.groupby(\"de_marital_status\")[\"flag_bad\"].mean()"
   ]
  },
  {
   "cell_type": "markdown",
   "id": "48d00d1f-c7c7-419b-bf0a-4604307cd10d",
   "metadata": {},
   "source": [
    "Widower tend to have more bad flag"
   ]
  },
  {
   "cell_type": "markdown",
   "id": "e85cf0f9-c647-44c0-a697-a8247cf5e3e5",
   "metadata": {},
   "source": [
    "### Employment Type"
   ]
  },
  {
   "cell_type": "code",
   "execution_count": 28,
   "id": "9cc3cad8-e0cf-4a25-8635-1146ba974b9b",
   "metadata": {},
   "outputs": [
    {
     "data": {
      "text/plain": [
       "de_employment_type\n",
       "1    29566\n",
       "2     6621\n",
       "3     4835\n",
       "Name: count, dtype: int64"
      ]
     },
     "execution_count": 28,
     "metadata": {},
     "output_type": "execute_result"
    }
   ],
   "source": [
    "df.de_employment_type.value_counts()"
   ]
  },
  {
   "cell_type": "code",
   "execution_count": 29,
   "id": "aa7c4105-7b11-4ae0-a255-94c037801210",
   "metadata": {},
   "outputs": [
    {
     "data": {
      "text/plain": [
       "de_employment_type\n",
       "1    0.118379\n",
       "2    0.157227\n",
       "3    0.161117\n",
       "Name: flag_bad, dtype: float64"
      ]
     },
     "execution_count": 29,
     "metadata": {},
     "output_type": "execute_result"
    }
   ],
   "source": [
    "df.groupby(\"de_employment_type\")[\"flag_bad\"].mean()"
   ]
  },
  {
   "cell_type": "markdown",
   "id": "190c6f06-1e10-4c8c-aafa-80c61ba7f35e",
   "metadata": {},
   "source": [
    "Not really different for employment type"
   ]
  },
  {
   "cell_type": "markdown",
   "id": "bb99f299-d6ba-459d-afa1-7d1e29fc5bbc",
   "metadata": {},
   "source": [
    "### Children"
   ]
  },
  {
   "cell_type": "code",
   "execution_count": 30,
   "id": "489c96d7-915b-4c10-a2f2-4a28d275fe7e",
   "metadata": {},
   "outputs": [
    {
     "data": {
      "text/plain": [
       "de_children\n",
       "0    23095\n",
       "1     8921\n",
       "2     7249\n",
       "3     1446\n",
       "4      311\n",
       "Name: count, dtype: int64"
      ]
     },
     "execution_count": 30,
     "metadata": {},
     "output_type": "execute_result"
    }
   ],
   "source": [
    "df.de_children.value_counts()"
   ]
  },
  {
   "cell_type": "code",
   "execution_count": 31,
   "id": "df96d3f3-8894-4c64-b926-95f57366c835",
   "metadata": {},
   "outputs": [
    {
     "data": {
      "text/plain": [
       "de_children\n",
       "0    0.127127\n",
       "1    0.125659\n",
       "2    0.138088\n",
       "3    0.139696\n",
       "4    0.192926\n",
       "Name: flag_bad, dtype: float64"
      ]
     },
     "execution_count": 31,
     "metadata": {},
     "output_type": "execute_result"
    }
   ],
   "source": [
    "df.groupby(\"de_children\")[\"flag_bad\"].mean()"
   ]
  },
  {
   "cell_type": "markdown",
   "id": "669ced49-14c0-41fc-9a65-724a353ac801",
   "metadata": {},
   "source": [
    "The trend is clear. More kids, the flag bad percentage is higher."
   ]
  },
  {
   "cell_type": "markdown",
   "id": "289af8a9-f250-48ac-aea8-2e061edb521b",
   "metadata": {},
   "source": [
    "### Education"
   ]
  },
  {
   "cell_type": "code",
   "execution_count": 32,
   "id": "d3e33933-8d87-48c2-8212-f1f5314da268",
   "metadata": {},
   "outputs": [
    {
     "data": {
      "text/plain": [
       "de_education\n",
       "2    24589\n",
       "4     8258\n",
       "3     5758\n",
       "5     1561\n",
       "1      856\n",
       "Name: count, dtype: int64"
      ]
     },
     "execution_count": 32,
     "metadata": {},
     "output_type": "execute_result"
    }
   ],
   "source": [
    "df.de_education.value_counts()"
   ]
  },
  {
   "cell_type": "code",
   "execution_count": 33,
   "id": "be925dee-a380-42dd-a745-81f58a4a5dda",
   "metadata": {},
   "outputs": [
    {
     "data": {
      "text/plain": [
       "de_education\n",
       "1    0.169393\n",
       "2    0.146244\n",
       "3    0.116013\n",
       "4    0.099055\n",
       "5    0.059577\n",
       "Name: flag_bad, dtype: float64"
      ]
     },
     "execution_count": 33,
     "metadata": {},
     "output_type": "execute_result"
    }
   ],
   "source": [
    "df.groupby(\"de_education\")[\"flag_bad\"].mean()"
   ]
  },
  {
   "cell_type": "markdown",
   "id": "fe751e57-b7df-45c6-89f0-1c13dcff97da",
   "metadata": {},
   "source": [
    "The trend is clear. The higher the education, the lesser the bad flag."
   ]
  },
  {
   "cell_type": "markdown",
   "id": "b2914c1a-ab3d-41eb-bc01-86cd0c6f85bf",
   "metadata": {},
   "source": [
    "### Employment Duration"
   ]
  },
  {
   "cell_type": "code",
   "execution_count": 34,
   "id": "9d1387b1-2b37-4779-9832-cc732289c214",
   "metadata": {},
   "outputs": [
    {
     "data": {
      "image/png": "[encoded data removed]",
      "text/plain": [
       "<Figure size 800x500 with 1 Axes>"
      ]
     },
     "metadata": {},
     "output_type": "display_data"
    }
   ],
   "source": [
    "df.groupby(\"de_employment_duration\")[\"flag_bad\"].mean().plot(\n",
    "    kind=\"bar\", figsize=(8,5), ylabel=\"Mean flag_bad\", xlabel=\"Employment Duration\", title=\"Bad Rate by Employment Duration\"\n",
    ")\n",
    "plt.grid()"
   ]
  },
  {
   "cell_type": "markdown",
   "id": "e23d75f8-50b6-4c52-b959-30927ae7e468",
   "metadata": {},
   "source": [
    "Unclear relation, mostly not really different"
   ]
  },
  {
   "cell_type": "markdown",
   "id": "d5fe72f6-ed96-4063-899a-4c2dfdc7ef7f",
   "metadata": {},
   "source": [
    "### Total Contacts"
   ]
  },
  {
   "cell_type": "code",
   "execution_count": 35,
   "id": "78e86c42-3a60-499d-802a-ad1037cb802d",
   "metadata": {},
   "outputs": [
    {
     "data": {
      "image/png": "[encoded data removed]",
      "text/plain": [
       "<Figure size 2400x200 with 1 Axes>"
      ]
     },
     "metadata": {},
     "output_type": "display_data"
    }
   ],
   "source": [
    "fig, ax = plt.subplots(figsize=(24,2))\n",
    "sns.boxplot(df[['ph_total_contacts', 'flag_bad']], x='ph_total_contacts', y='flag_bad', orient='h');"
   ]
  },
  {
   "cell_type": "markdown",
   "id": "dcb30ef7-4021-4afd-ad35-f325989be58d",
   "metadata": {},
   "source": [
    "We should clear the outlier and see the pattern, but lets just handle it over xgboost that robust to outliers"
   ]
  },
  {
   "cell_type": "markdown",
   "id": "75d680eb-cfb2-435f-95b8-ba0ab080f8c6",
   "metadata": {},
   "source": [
    "### Age Confirmation vs FB Age"
   ]
  },
  {
   "cell_type": "markdown",
   "id": "baa788bd-db19-4486-8e52-be816d17f6b7",
   "metadata": {},
   "source": [
    "This is the fb_age assume its counted at joined date"
   ]
  },
  {
   "cell_type": "code",
   "execution_count": 36,
   "id": "468f1308-c086-4664-8e33-b9dba5b84600",
   "metadata": {},
   "outputs": [
    {
     "data": {
      "text/plain": [
       "0        26.393474\n",
       "1        22.969096\n",
       "2        32.242997\n",
       "3        31.465594\n",
       "4        27.517146\n",
       "           ...    \n",
       "41017          NaN\n",
       "41018          NaN\n",
       "41019    22.791729\n",
       "41020          NaN\n",
       "41021    34.725967\n",
       "Length: 41022, dtype: float64"
      ]
     },
     "execution_count": 36,
     "metadata": {},
     "output_type": "execute_result"
    }
   ],
   "source": [
    "((pd.to_datetime(df.de_date_joined, dayfirst=True) - pd.to_datetime(df.fb_dob))/pd.Timedelta(days=1))/365"
   ]
  },
  {
   "cell_type": "code",
   "execution_count": 37,
   "id": "0bfa50ed-de0c-4ea2-9413-c2be4424f56a",
   "metadata": {},
   "outputs": [
    {
     "data": {
      "text/plain": [
       "count    31369.000000\n",
       "mean        29.359470\n",
       "std          9.984007\n",
       "min         13.492192\n",
       "25%         23.824612\n",
       "50%         27.309433\n",
       "75%         32.209488\n",
       "max        113.547666\n",
       "dtype: float64"
      ]
     },
     "execution_count": 37,
     "metadata": {},
     "output_type": "execute_result"
    }
   ],
   "source": [
    "(((pd.to_datetime(df.de_date_joined, dayfirst=True) - pd.to_datetime(df.fb_dob))/pd.Timedelta(days=1))/365).describe()"
   ]
  },
  {
   "cell_type": "markdown",
   "id": "90bbf053-d2fd-48e6-9956-808cdb7087dc",
   "metadata": {},
   "source": [
    "And lets see the discrepancies with the de_age"
   ]
  },
  {
   "cell_type": "code",
   "execution_count": 37,
   "id": "8c4313c8-e7c5-4f35-a81c-b8479ad182f9",
   "metadata": {},
   "outputs": [
    {
     "data": {
      "text/plain": [
       "0     0.393474\n",
       "1     0.969096\n",
       "2     0.242997\n",
       "3     0.465594\n",
       "4     0.517146\n",
       "5     2.228864\n",
       "6     0.709713\n",
       "7     0.586227\n",
       "8     0.157627\n",
       "9     0.029854\n",
       "10    0.132960\n",
       "11    0.221138\n",
       "12    0.968185\n",
       "13    0.278626\n",
       "14    1.068000\n",
       "15   -3.963834\n",
       "16    0.712066\n",
       "17    0.175236\n",
       "18    0.995533\n",
       "19    0.248760\n",
       "dtype: float64"
      ]
     },
     "execution_count": 37,
     "metadata": {},
     "output_type": "execute_result"
    }
   ],
   "source": [
    "a = (((pd.to_datetime(df.de_date_joined, dayfirst=True) - pd.to_datetime(df.fb_dob))/pd.Timedelta(days=1))/365)-df.de_age\n",
    "a[:20]"
   ]
  },
  {
   "cell_type": "markdown",
   "id": "aaf7863a-ebcc-4d5c-9106-71189101ee65",
   "metadata": {},
   "source": [
    "Most will have 0-1 discrepancies and its normal"
   ]
  },
  {
   "cell_type": "markdown",
   "id": "ccb19c01-17e8-4fa8-982b-8162f6f838d3",
   "metadata": {},
   "source": [
    "But lets see in a bigger view, lets bin it into 10 different bin and see the bad percentage."
   ]
  },
  {
   "cell_type": "code",
   "execution_count": 38,
   "id": "de1a5b41-b837-400f-81e5-9808954b0e12",
   "metadata": {},
   "outputs": [
    {
     "name": "stderr",
     "output_type": "stream",
     "text": [
      "/tmp/ipykernel_456954/1607300610.py:2: FutureWarning: The default of observed=False is deprecated and will be changed to True in a future version of pandas. Pass observed=False to retain current behavior or observed=True to adopt the future default and silence this warning.\n",
      "  result = df.groupby(b)[\"flag_bad\"].mean().reset_index()\n"
     ]
    },
    {
     "data": {
      "image/png": "[encoded data removed]",
      "text/plain": [
       "<Figure size 1000x500 with 1 Axes>"
      ]
     },
     "metadata": {},
     "output_type": "display_data"
    }
   ],
   "source": [
    "b = pd.qcut(a, q=10, duplicates=\"drop\")\n",
    "result = df.groupby(b)[\"flag_bad\"].mean().reset_index()\n",
    "\n",
    "plt.figure(figsize=(10,5))\n",
    "sns.barplot(x=b, y=df.flag_bad)\n",
    "plt.xticks(rotation=45)\n",
    "plt.grid()"
   ]
  },
  {
   "cell_type": "markdown",
   "id": "1162d601-e116-4a24-a254-0e98b8df4b4d",
   "metadata": {},
   "source": [
    "We see the anomaly at the last bin. The bad percentage is higher."
   ]
  },
  {
   "cell_type": "markdown",
   "id": "68fc6270-8ab1-4f1a-8042-3d961db5c9b1",
   "metadata": {},
   "source": [
    "This means people that falsify/differ their age more than 1.088 yr compared to fb_dob counted in joined date, tends to have more flag_bad percentage."
   ]
  },
  {
   "cell_type": "markdown",
   "id": "8fc32645-d1b2-4908-a796-711eb5977b27",
   "metadata": {},
   "source": [
    "But why it doesn't happen in another direction (e.g the -0.277 to -49.5 bin)? See again the definition. the positive means fb_age higher than de_age. It can mean a young person pretend to be an adult/older person.\n",
    "\n",
    "```\n",
    "(((pd.to_datetime(df.de_date_joined, dayfirst=True) - pd.to_datetime(df.fb_dob))/pd.Timedelta(days=1))/365)-df.de_age\n",
    "```\n",
    "\n",
    "But if negative? It can mean an older person misfill the age in FB or any misfill case in FB. Its unintentional."
   ]
  },
  {
   "cell_type": "markdown",
   "id": "75835def-ae9e-4bfe-b911-83663e315040",
   "metadata": {},
   "source": [
    "To exemplify, it looks like this. See who born at 1914?"
   ]
  },
  {
   "cell_type": "code",
   "execution_count": 39,
   "id": "a17c6301-b856-48fb-9051-ea6416cabf26",
   "metadata": {},
   "outputs": [
    {
     "data": {
      "text/html": [
       "<div>\n",
       "<style scoped>\n",
       "    .dataframe tbody tr th:only-of-type {\n",
       "        vertical-align: middle;\n",
       "    }\n",
       "\n",
       "    .dataframe tbody tr th {\n",
       "        vertical-align: top;\n",
       "    }\n",
       "\n",
       "    .dataframe thead th {\n",
       "        text-align: right;\n",
       "    }\n",
       "</style>\n",
       "<table border=\"1\" class=\"dataframe\">\n",
       "  <thead>\n",
       "    <tr style=\"text-align: right;\">\n",
       "      <th></th>\n",
       "      <th>de_age</th>\n",
       "      <th>de_date_joined</th>\n",
       "      <th>fb_dob</th>\n",
       "    </tr>\n",
       "  </thead>\n",
       "  <tbody>\n",
       "    <tr>\n",
       "      <th>83</th>\n",
       "      <td>34</td>\n",
       "      <td>02/01/2018 21:08</td>\n",
       "      <td>03/26/1914</td>\n",
       "    </tr>\n",
       "    <tr>\n",
       "      <th>108</th>\n",
       "      <td>33</td>\n",
       "      <td>12/01/2018 02:20</td>\n",
       "      <td>11/29/1945</td>\n",
       "    </tr>\n",
       "    <tr>\n",
       "      <th>113</th>\n",
       "      <td>23</td>\n",
       "      <td>03/01/2018 12:45</td>\n",
       "      <td>01/01/1905</td>\n",
       "    </tr>\n",
       "    <tr>\n",
       "      <th>132</th>\n",
       "      <td>26</td>\n",
       "      <td>06/01/2018 00:53</td>\n",
       "      <td>04/08/1928</td>\n",
       "    </tr>\n",
       "    <tr>\n",
       "      <th>157</th>\n",
       "      <td>37</td>\n",
       "      <td>03/01/2018 13:51</td>\n",
       "      <td>01/03/1945</td>\n",
       "    </tr>\n",
       "    <tr>\n",
       "      <th>...</th>\n",
       "      <td>...</td>\n",
       "      <td>...</td>\n",
       "      <td>...</td>\n",
       "    </tr>\n",
       "    <tr>\n",
       "      <th>40770</th>\n",
       "      <td>30</td>\n",
       "      <td>09/07/2018 17:54</td>\n",
       "      <td>05/17/1910</td>\n",
       "    </tr>\n",
       "    <tr>\n",
       "      <th>40816</th>\n",
       "      <td>25</td>\n",
       "      <td>11/07/2018 20:10</td>\n",
       "      <td>11/23/1945</td>\n",
       "    </tr>\n",
       "    <tr>\n",
       "      <th>40832</th>\n",
       "      <td>21</td>\n",
       "      <td>10/07/2018 19:13</td>\n",
       "      <td>11/19/1993</td>\n",
       "    </tr>\n",
       "    <tr>\n",
       "      <th>40990</th>\n",
       "      <td>37</td>\n",
       "      <td>11/07/2018 22:58</td>\n",
       "      <td>06/18/1978</td>\n",
       "    </tr>\n",
       "    <tr>\n",
       "      <th>41013</th>\n",
       "      <td>21</td>\n",
       "      <td>11/07/2018 18:59</td>\n",
       "      <td>08/15/1925</td>\n",
       "    </tr>\n",
       "  </tbody>\n",
       "</table>\n",
       "<p>1334 rows × 3 columns</p>\n",
       "</div>"
      ],
      "text/plain": [
       "       de_age    de_date_joined      fb_dob\n",
       "83         34  02/01/2018 21:08  03/26/1914\n",
       "108        33  12/01/2018 02:20  11/29/1945\n",
       "113        23  03/01/2018 12:45  01/01/1905\n",
       "132        26  06/01/2018 00:53  04/08/1928\n",
       "157        37  03/01/2018 13:51  01/03/1945\n",
       "...       ...               ...         ...\n",
       "40770      30  09/07/2018 17:54  05/17/1910\n",
       "40816      25  11/07/2018 20:10  11/23/1945\n",
       "40832      21  10/07/2018 19:13  11/19/1993\n",
       "40990      37  11/07/2018 22:58  06/18/1978\n",
       "41013      21  11/07/2018 18:59  08/15/1925\n",
       "\n",
       "[1334 rows x 3 columns]"
      ]
     },
     "execution_count": 39,
     "metadata": {},
     "output_type": "execute_result"
    }
   ],
   "source": [
    "df[(a>3.088)][['de_age', 'de_date_joined', 'fb_dob']]"
   ]
  },
  {
   "cell_type": "code",
   "execution_count": 40,
   "id": "7e121eea-1c6a-412f-9c43-bd4808734f2b",
   "metadata": {},
   "outputs": [
    {
     "data": {
      "text/plain": [
       "np.float64(0.20121173469387754)"
      ]
     },
     "execution_count": 40,
     "metadata": {},
     "output_type": "execute_result"
    }
   ],
   "source": [
    "df[(a>1.088)].flag_bad.mean()"
   ]
  },
  {
   "cell_type": "markdown",
   "id": "dd5052b1-6785-45eb-8f3a-92de82922d4c",
   "metadata": {},
   "source": [
    "We also inspect if no age attached in fb means more bad percentage. Turns out same more or less."
   ]
  },
  {
   "cell_type": "code",
   "execution_count": 41,
   "id": "8bf5126c-c511-497f-8322-9e43608d5467",
   "metadata": {},
   "outputs": [
    {
     "data": {
      "text/plain": [
       "np.float64(0.11405780586346213)"
      ]
     },
     "execution_count": 41,
     "metadata": {},
     "output_type": "execute_result"
    }
   ],
   "source": [
    "df[a.isna()].flag_bad.mean()"
   ]
  },
  {
   "cell_type": "markdown",
   "id": "1f40a3cc-12c3-4acb-8c75-c08cd300c221",
   "metadata": {},
   "source": [
    "But let xgboost handle this issue as they can automate the binning by growing the tree. We just provide the feature."
   ]
  },
  {
   "cell_type": "markdown",
   "id": "8560e83a-f2d7-4f73-9af1-9d8b01c1cf85",
   "metadata": {},
   "source": [
    "### Age"
   ]
  },
  {
   "cell_type": "code",
   "execution_count": 42,
   "id": "de7ad5f5-eb1f-45be-a120-8d5d16974f9f",
   "metadata": {},
   "outputs": [
    {
     "data": {
      "image/png": "[encoded data removed]",
      "text/plain": [
       "<Figure size 2400x200 with 1 Axes>"
      ]
     },
     "metadata": {},
     "output_type": "display_data"
    }
   ],
   "source": [
    "fig, ax = plt.subplots(figsize=(24,2))\n",
    "sns.boxplot(df[['de_age', 'flag_bad']], x='de_age', y='flag_bad', orient='h');"
   ]
  },
  {
   "cell_type": "markdown",
   "id": "3f342fde-982d-47de-90f4-c8a397ccdff1",
   "metadata": {},
   "source": [
    "Assume according to this the valid age are between 18-60\n",
    "\n",
    "https://kredivo.id/en/persyaratan-daftar-kredivo.html"
   ]
  },
  {
   "cell_type": "markdown",
   "id": "79a0f50a-f924-4b08-85e1-fed40254b61e",
   "metadata": {},
   "source": [
    "Actually i wanna assign the age > 60 to 60, but just hand it over to xgboost maybe this can be something to inspect"
   ]
  },
  {
   "cell_type": "code",
   "execution_count": 43,
   "id": "e5ec8b4b-5853-45e7-95f6-a8ea8efc4c50",
   "metadata": {},
   "outputs": [],
   "source": [
    "# df[\"de_age\"] = df[\"de_age\"].clip(upper=60)"
   ]
  },
  {
   "cell_type": "code",
   "execution_count": 44,
   "id": "cee1ff50-7516-4537-aad9-736e7663fd6a",
   "metadata": {},
   "outputs": [
    {
     "data": {
      "text/plain": [
       "count    41022.000000\n",
       "mean        28.170908\n",
       "std          6.537795\n",
       "min         18.000000\n",
       "25%         23.000000\n",
       "50%         27.000000\n",
       "75%         32.000000\n",
       "max         73.000000\n",
       "Name: de_age, dtype: float64"
      ]
     },
     "execution_count": 44,
     "metadata": {},
     "output_type": "execute_result"
    }
   ],
   "source": [
    "df.de_age.describe()"
   ]
  },
  {
   "cell_type": "code",
   "execution_count": 45,
   "id": "7f4c638c-a8a2-4e81-a7af-f349a7f0ed9a",
   "metadata": {},
   "outputs": [
    {
     "data": {
      "image/png": "[encoded data removed]",
      "text/plain": [
       "<Figure size 1200x500 with 1 Axes>"
      ]
     },
     "metadata": {},
     "output_type": "display_data"
    }
   ],
   "source": [
    "b = pd.qcut(df[\"de_age\"], q=10, duplicates=\"drop\")\n",
    "\n",
    "plt.figure(figsize=(12,5))\n",
    "sns.barplot(x=b, y=df[\"flag_bad\"], estimator=lambda x: x.mean())\n",
    "plt.xticks(rotation=45)\n",
    "plt.title(\"flag_bad mean across de_age buckets\")\n",
    "plt.grid()"
   ]
  },
  {
   "cell_type": "markdown",
   "id": "b04c7fa5-002e-4070-9dd0-7b1e6d0754ce",
   "metadata": {},
   "source": [
    "Not much difference. Ok to proceed"
   ]
  },
  {
   "cell_type": "markdown",
   "id": "69cdd802-883e-4494-8c78-fef5f29d4f80",
   "metadata": {},
   "source": [
    "### Call log stats"
   ]
  },
  {
   "cell_type": "markdown",
   "id": "0fa189a1-78a7-482d-b3bd-1732130eb778",
   "metadata": {},
   "source": [
    "We will handle this in the modelling part. Basically we will do feature engineering to extract those json data"
   ]
  },
  {
   "cell_type": "markdown",
   "id": "ac8f11ad-b7ad-4186-a50b-0885080ed75a",
   "metadata": {},
   "source": [
    "### Other Device Info"
   ]
  },
  {
   "cell_type": "markdown",
   "id": "e919138c-626e-4c06-b4dc-8f60763e34d8",
   "metadata": {},
   "source": [
    "Basically the same, we do Feature Engineering, but this time we try to find an external dataset and extract much more data like phone price, ram, dual sim, status, etc."
   ]
  },
  {
   "cell_type": "markdown",
   "id": "334035db-83af-4698-9855-c742edace626",
   "metadata": {},
   "source": [
    "### App Info"
   ]
  },
  {
   "cell_type": "markdown",
   "id": "d5183b3d-09b2-47f8-bd6a-b7cfecc258f0",
   "metadata": {},
   "source": [
    "We do FE also, it will be more on the modelling notebook. This one is interesting as we can extract keywords like, judol, zeus, patch, mod etc and assign the existing keyword as a flag. We will have several category to track it more."
   ]
  },
  {
   "cell_type": "markdown",
   "id": "c2a75c59-7495-414d-aff1-1e51d1738729",
   "metadata": {},
   "source": [
    "### Fb Relation"
   ]
  },
  {
   "cell_type": "code",
   "execution_count": 46,
   "id": "2cc3f169-8539-41b1-8d4d-d3fe73cf34b9",
   "metadata": {},
   "outputs": [
    {
     "data": {
      "text/plain": [
       "fb_relation\n",
       "NaN                                    26461\n",
       "Married                                 6327\n",
       "Single                                  4495\n",
       "In a relationship                       1847\n",
       "Engaged                                  812\n",
       "It's complicated                         362\n",
       "In an open relationship                  158\n",
       "Married (Pending)                        154\n",
       "In a domestic partnership                118\n",
       "Separated                                110\n",
       "Divorced                                  59\n",
       "Widowed                                   57\n",
       "In a relationship (Pending)               28\n",
       "Engaged (Pending)                         22\n",
       "In a civil union                           5\n",
       "In an open relationship (Pending)          3\n",
       "In a domestic partnership (Pending)        3\n",
       "It's complicated (Pending)                 1\n",
       "Name: count, dtype: int64"
      ]
     },
     "execution_count": 46,
     "metadata": {},
     "output_type": "execute_result"
    }
   ],
   "source": [
    "df.fb_relation.value_counts(dropna=False)"
   ]
  },
  {
   "cell_type": "markdown",
   "id": "b3fc05d7-380c-4cdb-8fe2-686404854dac",
   "metadata": {},
   "source": [
    "In the next notebook instead of throwing this feature since more than 60% null, we will assign NaN to unstated so model can also learn it. And we will assign similiar-to-married status to married"
   ]
  },
  {
   "cell_type": "markdown",
   "id": "390a21cd-4ae9-486b-8d56-ef5afa2cfd65",
   "metadata": {},
   "source": [
    "### Last Update Date"
   ]
  },
  {
   "cell_type": "markdown",
   "id": "af64e7db-7076-4969-ba04-660fd09ddb7e",
   "metadata": {},
   "source": [
    "We will Feature Engineering this by substracting it to date joined, and put the difference numbers on the model"
   ]
  },
  {
   "cell_type": "markdown",
   "id": "c86edc1c-c11e-49f6-8e54-5fab42ecd780",
   "metadata": {},
   "source": [
    "### From Gsmarena"
   ]
  },
  {
   "cell_type": "markdown",
   "id": "7179790d-a986-4c08-8e28-fb27e87c2a8b",
   "metadata": {},
   "source": [
    "Walkthrough to the cleaned gsmarena dataset. Should be more but this is one i wanna know the pattern more to decide a practical next step."
   ]
  },
  {
   "cell_type": "code",
   "execution_count": 47,
   "id": "ee5953b4-2752-4d27-9cee-5cb35f29a61f",
   "metadata": {},
   "outputs": [],
   "source": [
    "import json"
   ]
  },
  {
   "cell_type": "code",
   "execution_count": 48,
   "id": "231fd9ab-8a92-4604-9d93-e007b5ff27c4",
   "metadata": {},
   "outputs": [],
   "source": [
    "df_device = df[\"ph_other_device_info\"].apply(json.loads).apply(pd.Series)\n",
    "df = pd.concat([df, df_device], axis=1)\n",
    "del df_device\n",
    "df_mkt_gsm = pd.read_csv('marketing_gsm_clean.csv')\n",
    "df = df.merge(df_mkt_gsm, how='left', on=['device_codename', 'brand'])"
   ]
  },
  {
   "cell_type": "code",
   "execution_count": 78,
   "id": "d731b7eb-88c4-462d-be83-aae529d5e58f",
   "metadata": {},
   "outputs": [
    {
     "data": {
      "text/plain": [
       "{'Xiaomi': 13701,\n",
       " 'Samsung': 8887,\n",
       " 'Oppo': 7437,\n",
       " 'Vivo': 2460,\n",
       " 'Asus': 2416,\n",
       " 'Lenovo': 1492,\n",
       " 'Sony': 706,\n",
       " nan: 622,\n",
       " 'Smartfren': 571,\n",
       " 'LG': 539,\n",
       " 'Infinix': 348,\n",
       " 'Apple': 299,\n",
       " 'Motorola': 251,\n",
       " 'Huawei': 203,\n",
       " 'Meizu': 142,\n",
       " 'Nokia': 139,\n",
       " 'Coolpad': 109,\n",
       " 'Hisense': 97,\n",
       " 'BlackBerry': 82,\n",
       " 'Acer': 63,\n",
       " 'Honor': 57,\n",
       " 'HTC': 55,\n",
       " 'ZTE': 52,\n",
       " 'alcatel': 49,\n",
       " 'Sharp': 46,\n",
       " 'OnePlus': 44,\n",
       " 'Fujitsu': 34,\n",
       " 'Realme': 30,\n",
       " 'Wiko': 17,\n",
       " 'Haier': 12,\n",
       " 'Blackview': 10,\n",
       " 'Elevate': 10,\n",
       " 'Evercoss': 8,\n",
       " 'Lava': 6,\n",
       " 'Nextbit': 4,\n",
       " 'SPC': 3,\n",
       " 'Google': 3,\n",
       " 'Bluebird': 2,\n",
       " 'HP': 2,\n",
       " 'Micromax': 2,\n",
       " 'Mito': 2,\n",
       " 'Silent Circle': 2,\n",
       " 'Nexian': 1,\n",
       " 'LeTV': 1,\n",
       " 'Mobistel': 1,\n",
       " 'Yes': 1,\n",
       " 'Vodafone': 1,\n",
       " 'Kyocera': 1,\n",
       " 'Leeco': 1,\n",
       " 'Nuu': 1}"
      ]
     },
     "execution_count": 78,
     "metadata": {},
     "output_type": "execute_result"
    }
   ],
   "source": [
    "df['Retail Branding'].value_counts(dropna=False).to_dict()"
   ]
  },
  {
   "cell_type": "code",
   "execution_count": 64,
   "id": "be70a3d0-221d-4a2f-8d52-b7999e8b8a50",
   "metadata": {},
   "outputs": [],
   "source": [
    "# df.groupby(\"Retail Branding\")[\"flag_bad\"].mean()\n",
    "df['counts_retail_branding'] = df['Retail Branding'].map(df['Retail Branding'].value_counts(dropna=False).to_dict())"
   ]
  },
  {
   "cell_type": "code",
   "execution_count": 71,
   "id": "e13420a1-f3f4-4704-b64c-2e9a9e9c5ecc",
   "metadata": {},
   "outputs": [],
   "source": [
    "avg_flag = df.groupby(\"counts_retail_branding\")[\"flag_bad\"].mean().reset_index()"
   ]
  },
  {
   "cell_type": "markdown",
   "id": "5e796936-3b88-447b-ba4f-7c74bd640210",
   "metadata": {},
   "source": [
    "This is the composition. There are several that has high bad composition like sharp (46), smartfren (571) although the data is not few like the (1)s group"
   ]
  },
  {
   "cell_type": "code",
   "execution_count": 76,
   "id": "6d7d49a6-8c88-4648-b440-f5863ecea603",
   "metadata": {},
   "outputs": [
    {
     "data": {
      "image/png": "[encoded data removed]",
      "text/plain": [
       "<Figure size 800x500 with 1 Axes>"
      ]
     },
     "metadata": {},
     "output_type": "display_data"
    }
   ],
   "source": [
    "plt.figure(figsize=(8,5))\n",
    "sns.barplot(data=avg_flag, x=\"counts_retail_branding\", y=\"flag_bad\")\n",
    "\n",
    "plt.title(\"Average flag_bad per counts_retail_branding\")\n",
    "plt.xlabel(\"Counts of Retail Branding\")\n",
    "plt.ylabel(\"Mean flag_bad\")\n",
    "plt.xticks(rotation=45)\n",
    "plt.tight_layout()\n",
    "plt.grid()"
   ]
  },
  {
   "cell_type": "markdown",
   "id": "613c9d1a-ada9-42c0-bf18-f4e678450217",
   "metadata": {},
   "source": [
    "Before joined to the gsmarena dataset, device codename and brand is translated using google play support dataset. Not all having support, and some has been curated also for this column to match the gsmarena dataset later. But this is the bad composition relative to the value counts. For the 622 is for the nan. At least the value counts (~50) is lower than device_codename cardinality that reaches ~1000 and uncleaned brand column ~133."
   ]
  },
  {
   "cell_type": "code",
   "execution_count": 81,
   "id": "0fcc234b-571f-4b6a-bd12-67effdd40537",
   "metadata": {},
   "outputs": [
    {
     "data": {
      "text/plain": [
       "brand\n",
       "Xiaomi           10008\n",
       "samsung           8869\n",
       "OPPO              7474\n",
       "xiaomi            3756\n",
       "vivo              2460\n",
       "                 ...  \n",
       "ICHERRY              1\n",
       "Philips              1\n",
       "EVERCOSS A7A*        1\n",
       "IMO S90              1\n",
       "O3                   1\n",
       "Name: count, Length: 133, dtype: int64"
      ]
     },
     "execution_count": 81,
     "metadata": {},
     "output_type": "execute_result"
    }
   ],
   "source": [
    "df.brand.value_counts(dropna=False)"
   ]
  },
  {
   "cell_type": "code",
   "execution_count": null,
   "id": "7d7d247c-e67b-4ef3-b2fc-9c013cf89d64",
   "metadata": {},
   "outputs": [],
   "source": []
  }
 ],
 "metadata": {
  "kernelspec": {
   "display_name": "Python 3 (ipykernel)",
   "language": "python",
   "name": "python3"
  },
  "language_info": {
   "codemirror_mode": {
    "name": "ipython",
    "version": 3
   },
   "file_extension": ".py",
   "mimetype": "text/x-python",
   "name": "python",
   "nbconvert_exporter": "python",
   "pygments_lexer": "ipython3",
   "version": "3.12.3"
  }
 },
 "nbformat": 4,
 "nbformat_minor": 5
}
