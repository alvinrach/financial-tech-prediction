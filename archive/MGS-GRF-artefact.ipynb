{
 "cells": [
  {
   "cell_type": "code",
   "execution_count": 1,
   "id": "f71a58bb-7f19-4209-9251-2a6247ea8049",
   "metadata": {},
   "outputs": [],
   "source": [
    "import os\n",
    "import sys\n",
    "sys.path.insert(1, os.path.abspath(os.path.join(os.getcwd(), os.pardir)))"
   ]
  },
  {
   "cell_type": "code",
   "execution_count": 26,
   "id": "1278b997-0d87-4e5b-aaf2-9530f7d40bc4",
   "metadata": {},
   "outputs": [],
   "source": [
    "from sklearn.model_selection import train_test_split\n",
    "from collections import Counter\n",
    "from mgs_grf import MGSGRFOverSampler\n",
    "from sklearn.preprocessing import OneHotEncoder\n",
    "import numpy as np\n",
    "import lightgbm as lgb\n",
    "from sklearn.metrics import average_precision_score"
   ]
  },
  {
   "cell_type": "code",
   "execution_count": 27,
   "id": "1c4ffa00-2218-4665-892c-a69b1aa3c8e1",
   "metadata": {},
   "outputs": [],
   "source": [
    "## Import of the original data\n",
    "from experiments.data.data import load_BankChurners_data_\n",
    "\n",
    "X, y = load_BankChurners_data_()\n",
    "numeric_features = [0,2,7,8,9,10,11,12,13,14,15,16,17,18]\n",
    "categorical_features = [1,3,4,5,6]"
   ]
  },
  {
   "cell_type": "code",
   "execution_count": 28,
   "id": "ed720220-a585-4d24-a587-8732003fb232",
   "metadata": {},
   "outputs": [
    {
     "name": "stdout",
     "output_type": "stream",
     "text": [
      "Bankchurners 1% imbalance ratio :  Counter({np.int64(0): 6802, np.int64(1): 66})\n"
     ]
    }
   ],
   "source": [
    "## Splitting the data intro train and test set\n",
    "X_train_imbalanced, X_test, y_train_imbalanced, y_test = train_test_split(X, y, test_size=0.2, random_state=0)\n",
    "print(\"Bankchurners 1% imbalance ratio : \", Counter(y_train_imbalanced))"
   ]
  },
  {
   "cell_type": "code",
   "execution_count": 29,
   "id": "665ae7a9-120b-4540-a294-b44a1a79f315",
   "metadata": {},
   "outputs": [
    {
     "name": "stderr",
     "output_type": "stream",
     "text": [
      "/home/alvinrach/financial-tech-prediction/mgs_grf/over_sampling.py:342: UserWarning: MGSGRFOverSampler called with K=None. We set K to the number of continuous features: K=14\n",
      "  warnings.warn(\n"
     ]
    },
    {
     "name": "stdout",
     "output_type": "stream",
     "text": [
      "Augmented data :  Counter({np.int64(0): 6802, np.int64(1): 6802})\n"
     ]
    }
   ],
   "source": [
    "## Apply MGS-GRF procedure to oversample the data\n",
    "mgs_grf = MGSGRFOverSampler(categorical_features=categorical_features, random_state=0)\n",
    "X_train_balanced, y_train_balanced = mgs_grf.fit_resample(X_train_imbalanced, y_train_imbalanced)\n",
    "print(\"Augmented data : \", Counter(y_train_balanced))"
   ]
  },
  {
   "cell_type": "code",
   "execution_count": 30,
   "id": "e0217e39-6f0b-4918-ad74-9b50ca68dc9b",
   "metadata": {},
   "outputs": [
    {
     "name": "stdout",
     "output_type": "stream",
     "text": [
      "PR AUC induced by MGS-GRF :  0.5767656364976163\n"
     ]
    },
    {
     "name": "stderr",
     "output_type": "stream",
     "text": [
      "/home/alvinrach/.jupytervenv/lib/python3.12/site-packages/sklearn/utils/validation.py:2749: UserWarning: X does not have valid feature names, but LGBMClassifier was fitted with feature names\n",
      "  warnings.warn(\n"
     ]
    }
   ],
   "source": [
    "## Encode the categorical variables\n",
    "enc = OneHotEncoder(handle_unknown=\"ignore\", sparse_output=False)\n",
    "X_train_balanced_enc = np.hstack((X_train_balanced[:,numeric_features],\n",
    "                                  enc.fit_transform(X_train_balanced[:,categorical_features])))\n",
    "X_test_enc = np.hstack((X_test[:,numeric_features], enc.transform(X_test[:,categorical_features])))\n",
    "\n",
    "# Fit the final classifier on the augmented data\n",
    "clf = lgb.LGBMClassifier(n_estimators=100, verbosity=-1, random_state=0)\n",
    "clf.fit(X_train_balanced_enc, y_train_balanced)\n",
    "\n",
    "## Evaluation on test set\n",
    "y_pred_probas_mgs_grf = clf.predict_proba(X_test_enc)[:,1]\n",
    "print(\"PR AUC induced by MGS-GRF : \", average_precision_score(y_test, y_pred_probas_mgs_grf))"
   ]
  },
  {
   "cell_type": "code",
   "execution_count": 31,
   "id": "03474377-79ee-45ee-9f04-afef2ff58cb2",
   "metadata": {},
   "outputs": [
    {
     "name": "stdout",
     "output_type": "stream",
     "text": [
      "PR AUC induced by applying no rebalancing strategy :  0.401426481385112\n"
     ]
    },
    {
     "name": "stderr",
     "output_type": "stream",
     "text": [
      "/home/alvinrach/.jupytervenv/lib/python3.12/site-packages/sklearn/utils/validation.py:2749: UserWarning: X does not have valid feature names, but LGBMClassifier was fitted with feature names\n",
      "  warnings.warn(\n"
     ]
    }
   ],
   "source": [
    "## Comparison when applying no rebalancing strategy\n",
    "X_train_imbalanced_enc = np.hstack((X_train_imbalanced[:,numeric_features],\n",
    "                                    enc.fit_transform(X_train_imbalanced[:,categorical_features])))\n",
    "clf_imbalanced = lgb.LGBMClassifier(n_estimators=100, verbosity=-1, random_state=0)\n",
    "clf_imbalanced.fit(X_train_imbalanced_enc, y_train_imbalanced)\n",
    "\n",
    "y_pred_probas_imbalanced = clf_imbalanced.predict_proba(X_test_enc)[:,1]\n",
    "print(\"PR AUC induced by applying no rebalancing strategy : \", average_precision_score(y_test, y_pred_probas_imbalanced))"
   ]
  },
  {
   "cell_type": "code",
   "execution_count": null,
   "id": "4e2ce14c-7744-4ba4-b4bb-b220f69130d9",
   "metadata": {},
   "outputs": [],
   "source": []
  }
 ],
 "metadata": {
  "kernelspec": {
   "display_name": "Python 3 (ipykernel)",
   "language": "python",
   "name": "python3"
  },
  "language_info": {
   "codemirror_mode": {
    "name": "ipython",
    "version": 3
   },
   "file_extension": ".py",
   "mimetype": "text/x-python",
   "name": "python",
   "nbconvert_exporter": "python",
   "pygments_lexer": "ipython3",
   "version": "3.12.3"
  }
 },
 "nbformat": 4,
 "nbformat_minor": 5
}
